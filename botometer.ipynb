{
  "nbformat": 4,
  "nbformat_minor": 0,
  "metadata": {
    "colab": {
      "name": "Botometer.ipynb",
      "provenance": []
    },
    "kernelspec": {
      "name": "python3",
      "display_name": "Python 3"
    },
    "language_info": {
      "name": "python"
    }
  },
  "cells": [
    {
      "cell_type": "markdown",
      "source": [
        "## This notebook shows working examples of how to use [Botometer](https://github.com/IUNetSci/botometer-python) for investigating Twitter accounts"
      ],
      "metadata": {
        "id": "Fl7GvkuvpjFH"
      }
    },
    {
      "cell_type": "markdown",
      "source": [
        "### Installs and imports"
      ],
      "metadata": {
        "id": "AIMyM_HVmRTw"
      }
    },
    {
      "cell_type": "code",
      "execution_count": 1,
      "metadata": {
        "colab": {
          "base_uri": "https://localhost:8080/"
        },
        "id": "4ioZGjuAheZj",
        "outputId": "6fd4bf88-cf1e-4034-f6bc-90122673aaad"
      },
      "outputs": [
        {
          "output_type": "stream",
          "name": "stdout",
          "text": [
            "Looking in indexes: https://pypi.org/simple, https://us-python.pkg.dev/colab-wheels/public/simple/\n",
            "Collecting botometer\n",
            "  Downloading botometer-1.6.1-py3-none-any.whl (4.8 kB)\n",
            "Requirement already satisfied: requests in /usr/local/lib/python3.7/dist-packages (2.23.0)\n",
            "Requirement already satisfied: tweepy in /usr/local/lib/python3.7/dist-packages (3.10.0)\n",
            "Requirement already satisfied: requests-oauthlib>=0.7.0 in /usr/local/lib/python3.7/dist-packages (from tweepy) (1.3.1)\n",
            "Requirement already satisfied: six>=1.10.0 in /usr/local/lib/python3.7/dist-packages (from tweepy) (1.15.0)\n",
            "Requirement already satisfied: oauthlib>=3.0.0 in /usr/local/lib/python3.7/dist-packages (from requests-oauthlib>=0.7.0->tweepy) (3.2.0)\n",
            "Requirement already satisfied: certifi>=2017.4.17 in /usr/local/lib/python3.7/dist-packages (from requests) (2022.6.15)\n",
            "Requirement already satisfied: chardet<4,>=3.0.2 in /usr/local/lib/python3.7/dist-packages (from requests) (3.0.4)\n",
            "Requirement already satisfied: idna<3,>=2.5 in /usr/local/lib/python3.7/dist-packages (from requests) (2.10)\n",
            "Requirement already satisfied: urllib3!=1.25.0,!=1.25.1,<1.26,>=1.21.1 in /usr/local/lib/python3.7/dist-packages (from requests) (1.24.3)\n",
            "Requirement already satisfied: PySocks!=1.5.7,>=1.5.6 in /usr/local/lib/python3.7/dist-packages (from requests) (1.7.1)\n",
            "Installing collected packages: botometer\n",
            "Successfully installed botometer-1.6.1\n"
          ]
        }
      ],
      "source": [
        "!pip install botometer requests tweepy"
      ]
    },
    {
      "cell_type": "code",
      "source": [
        "import botometer"
      ],
      "metadata": {
        "id": "iVth_xVqhozl"
      },
      "execution_count": 2,
      "outputs": []
    },
    {
      "cell_type": "markdown",
      "source": [
        "### Declare API keys\n",
        "\n",
        "\n"
      ],
      "metadata": {
        "id": "5xZRXWdsmVfI"
      }
    },
    {
      "cell_type": "code",
      "source": [
        "rapidapi_key = \"  \"\n",
        "\n",
        "twitter_app_auth = {\n",
        "    'consumer_key': ' ',\n",
        "    'consumer_secret': ' ',\n",
        "    'access_token': ' ',\n",
        "    'access_token_secret': ' ',\n",
        "  }"
      ],
      "metadata": {
        "id": "49ePHXk7hxfx"
      },
      "execution_count": 3,
      "outputs": []
    },
    {
      "cell_type": "markdown",
      "source": [
        "### Define a `Botometer` API call request"
      ],
      "metadata": {
        "id": "exH7FqTjnjeq"
      }
    },
    {
      "cell_type": "code",
      "source": [
        "bom = botometer.Botometer(wait_on_ratelimit=True,\n",
        "                          rapidapi_key=rapidapi_key,\n",
        "                          **twitter_app_auth)"
      ],
      "metadata": {
        "id": "8BH0MvEllQ8Q"
      },
      "execution_count": 4,
      "outputs": []
    },
    {
      "cell_type": "markdown",
      "source": [
        "### Test on an account"
      ],
      "metadata": {
        "id": "C9_tTNiynrV7"
      }
    },
    {
      "cell_type": "markdown",
      "source": [
        "**Meanings of the elements in the response**\n",
        "\n",
        "* `user`: Twitter user object (from the user) plus the language inferred from majority of tweets\n",
        "\n",
        "* `raw scores`: bot score in the [0,1] range, both using English (all features) and Universal (language-independent) features; in each case we have the overall score and the sub-scores for each bot class (see below for subclass names and definitions)\n",
        "\n",
        "* `display scores`: same as raw scores, but in the [0,5] range\n",
        "\n",
        "* `cap`: conditional probability that accounts with a score equal to or greater than this are automated; based on inferred language\n",
        "\n",
        "**Meanings of the bot type scores**\n",
        "\n",
        "* `fake_follower`: bots purchased to increase follower counts\n",
        "\n",
        "* `self_declared`: bots from botwiki.org\n",
        "\n",
        "* `astroturf`: manually labeled political bots and accounts involved in follow trains that systematically delete content\n",
        "\n",
        "* `spammer`: accounts labeled as spambots from several datasets\n",
        "\n",
        "* `financial`: bots that post using cashtags\n",
        "\n",
        "* `other`: miscellaneous other bots obtained from manual annotation, user feedback, etc."
      ],
      "metadata": {
        "id": "UyCDVZ98n0re"
      }
    },
    {
      "cell_type": "code",
      "source": [
        "result = bom.check_account('@narendramodi')\n",
        "print (result)"
      ],
      "metadata": {
        "colab": {
          "base_uri": "https://localhost:8080/"
        },
        "id": "lkp2KXCHlaLQ",
        "outputId": "6bb0119f-af0c-483c-bb47-e0b3c2a7bbef"
      },
      "execution_count": 7,
      "outputs": [
        {
          "output_type": "stream",
          "name": "stdout",
          "text": [
            "{'cap': {'english': 0.7969641686241824, 'universal': 0.8052475029769541}, 'display_scores': {'english': {'astroturf': 0.8, 'fake_follower': 0.4, 'financial': 0.0, 'other': 2.3, 'overall': 2.3, 'self_declared': 0.7, 'spammer': 0.0}, 'universal': {'astroturf': 0.6, 'fake_follower': 0.5, 'financial': 0.0, 'other': 2.4, 'overall': 2.4, 'self_declared': 0.8, 'spammer': 0.0}}, 'raw_scores': {'english': {'astroturf': 0.16, 'fake_follower': 0.08, 'financial': 0.01, 'other': 0.46, 'overall': 0.47, 'self_declared': 0.14, 'spammer': 0.01}, 'universal': {'astroturf': 0.11, 'fake_follower': 0.1, 'financial': 0.01, 'other': 0.48, 'overall': 0.48, 'self_declared': 0.15, 'spammer': 0.01}}, 'user': {'majority_lang': 'en', 'user_data': {'id_str': '18839785', 'screen_name': 'narendramodi'}}}\n"
          ]
        }
      ]
    },
    {
      "cell_type": "markdown",
      "source": [
        "### Test on a sequence of accounts"
      ],
      "metadata": {
        "id": "YlUFBv37RmOr"
      }
    },
    {
      "cell_type": "code",
      "source": [
        "accounts = ['@clayadavis', '@onurvarol', '@narendramodi']\n",
        "for account_name, result in bom.check_accounts_in(accounts):\n",
        "  print (\"=======================\", account_name, \"=======================\")\n",
        "  print (result)"
      ],
      "metadata": {
        "colab": {
          "base_uri": "https://localhost:8080/"
        },
        "id": "SQdbFcSERrGx",
        "outputId": "8c4ab70f-0b0f-457e-f840-39705c817ecf"
      },
      "execution_count": 8,
      "outputs": [
        {
          "output_type": "stream",
          "name": "stdout",
          "text": [
            "======================= @clayadavis =======================\n",
            "{'cap': {'english': 0.4197222421546159, 'universal': 0.49449072748283696}, 'display_scores': {'english': {'astroturf': 0.1, 'fake_follower': 1.0, 'financial': 0.0, 'other': 0.4, 'overall': 0.4, 'self_declared': 0.2, 'spammer': 0.0}, 'universal': {'astroturf': 0.0, 'fake_follower': 1.0, 'financial': 0.0, 'other': 0.4, 'overall': 0.5, 'self_declared': 0.0, 'spammer': 0.0}}, 'raw_scores': {'english': {'astroturf': 0.02, 'fake_follower': 0.21, 'financial': 0.0, 'other': 0.07, 'overall': 0.08, 'self_declared': 0.04, 'spammer': 0.01}, 'universal': {'astroturf': 0.01, 'fake_follower': 0.2, 'financial': 0.0, 'other': 0.07, 'overall': 0.1, 'self_declared': 0.0, 'spammer': 0.01}}, 'user': {'majority_lang': 'en', 'user_data': {'id_str': '1548959833', 'screen_name': 'clayadavis'}}}\n",
            "======================= @onurvarol =======================\n",
            "{'cap': {'english': 0.5027122940873614, 'universal': 0.5742686032713971}, 'display_scores': {'english': {'astroturf': 1.5, 'fake_follower': 0.4, 'financial': 0.0, 'other': 1.2, 'overall': 0.6, 'self_declared': 0.0, 'spammer': 0.0}, 'universal': {'astroturf': 1.1, 'fake_follower': 0.2, 'financial': 0.0, 'other': 0.6, 'overall': 0.6, 'self_declared': 0.0, 'spammer': 0.0}}, 'raw_scores': {'english': {'astroturf': 0.3, 'fake_follower': 0.07, 'financial': 0.0, 'other': 0.25, 'overall': 0.11, 'self_declared': 0.01, 'spammer': 0.01}, 'universal': {'astroturf': 0.22, 'fake_follower': 0.04, 'financial': 0.01, 'other': 0.12, 'overall': 0.13, 'self_declared': 0.0, 'spammer': 0.0}}, 'user': {'majority_lang': 'en', 'user_data': {'id_str': '77436536', 'screen_name': 'onurvarol'}}}\n",
            "======================= @narendramodi =======================\n",
            "{'cap': {'english': 0.7969641686241824, 'universal': 0.8030212452554465}, 'display_scores': {'english': {'astroturf': 0.9, 'fake_follower': 0.6, 'financial': 0.0, 'other': 2.5, 'overall': 2.3, 'self_declared': 0.6, 'spammer': 0.0}, 'universal': {'astroturf': 0.4, 'fake_follower': 0.6, 'financial': 0.0, 'other': 2.0, 'overall': 2.0, 'self_declared': 0.7, 'spammer': 0.0}}, 'raw_scores': {'english': {'astroturf': 0.18, 'fake_follower': 0.11, 'financial': 0.0, 'other': 0.5, 'overall': 0.47, 'self_declared': 0.13, 'spammer': 0.01}, 'universal': {'astroturf': 0.09, 'fake_follower': 0.12, 'financial': 0.01, 'other': 0.4, 'overall': 0.4, 'self_declared': 0.14, 'spammer': 0.01}}, 'user': {'majority_lang': 'en', 'user_data': {'id_str': '18839785', 'screen_name': 'narendramodi'}}}\n"
          ]
        }
      ]
    }
  ]
}